{
  "nbformat": 4,
  "nbformat_minor": 0,
  "metadata": {
    "colab": {
      "name": "Classification.ipynb",
      "provenance": [],
      "collapsed_sections": [],
      "authorship_tag": "ABX9TyOK9YEnNw2Cawqqkjl4fKJ2",
      "include_colab_link": true
    },
    "kernelspec": {
      "name": "python3",
      "display_name": "Python 3"
    }
  },
  "cells": [
    {
      "cell_type": "markdown",
      "metadata": {
        "id": "view-in-github",
        "colab_type": "text"
      },
      "source": [
        "<a href=\"https://colab.research.google.com/github/chandramouli224/python_code/blob/main/Classification.ipynb\" target=\"_parent\"><img src=\"https://colab.research.google.com/assets/colab-badge.svg\" alt=\"Open In Colab\"/></a>"
      ]
    },
    {
      "cell_type": "code",
      "metadata": {
        "id": "hTqfiVAOAE30"
      },
      "source": [
        "from sklearn.datasets import fetch_openml\r\n",
        "mnist=fetch_openml('mnist_784')"
      ],
      "execution_count": null,
      "outputs": []
    },
    {
      "cell_type": "code",
      "metadata": {
        "colab": {
          "base_uri": "https://localhost:8080/"
        },
        "id": "esmCk9xkAfMl",
        "outputId": "e4302509-0318-4c9e-8ec0-bc1b25850e18"
      },
      "source": [
        "X,y = mnist[\"data\"],mnist[\"target\"]\r\n",
        "print(X.shape)\r\n",
        "y.shape"
      ],
      "execution_count": null,
      "outputs": [
        {
          "output_type": "stream",
          "text": [
            "(70000, 784)\n"
          ],
          "name": "stdout"
        },
        {
          "output_type": "execute_result",
          "data": {
            "text/plain": [
              "(70000,)"
            ]
          },
          "metadata": {
            "tags": []
          },
          "execution_count": 3
        }
      ]
    },
    {
      "cell_type": "code",
      "metadata": {
        "id": "HBN3X1KBBFZ5"
      },
      "source": [
        "%matplotlib inline\r\n",
        "import matplotlib\r\n",
        "import matplotlib.pyplot as plt"
      ],
      "execution_count": null,
      "outputs": []
    },
    {
      "cell_type": "code",
      "metadata": {
        "colab": {
          "base_uri": "https://localhost:8080/",
          "height": 265
        },
        "id": "Uf4jW400BN9k",
        "outputId": "0bed94b9-9c0e-4917-e185-803fdca601c9"
      },
      "source": [
        "some_digits = X[37000]\r\n",
        "some_digits_image = some_digits.reshape(28,28)\r\n",
        "plt.imshow(some_digits_image,cmap=matplotlib.cm.binary,interpolation=\"nearest\")\r\n",
        "plt.axis(\"on\")\r\n",
        "plt.show()"
      ],
      "execution_count": null,
      "outputs": [
        {
          "output_type": "display_data",
          "data": {
            "image/png": "[encoded data removed]",
            "text/plain": [
              "<Figure size 432x288 with 1 Axes>"
            ]
          },
          "metadata": {
            "tags": [],
            "needs_background": "light"
          }
        }
      ]
    },
    {
      "cell_type": "code",
      "metadata": {
        "colab": {
          "base_uri": "https://localhost:8080/",
          "height": 35
        },
        "id": "P5lwaa3mB_ec",
        "outputId": "0de64525-c663-4a92-d9f3-2ea087dc1fff"
      },
      "source": [
        "y[37000]"
      ],
      "execution_count": null,
      "outputs": [
        {
          "output_type": "execute_result",
          "data": {
            "application/vnd.google.colaboratory.intrinsic+json": {
              "type": "string"
            },
            "text/plain": [
              "'4'"
            ]
          },
          "metadata": {
            "tags": []
          },
          "execution_count": 6
        }
      ]
    },
    {
      "cell_type": "markdown",
      "metadata": {
        "id": "y5JWTG-tCOUm"
      },
      "source": [
        "**Splitting training dn testing data sets**"
      ]
    },
    {
      "cell_type": "code",
      "metadata": {
        "id": "-4BEVeT0CVnB"
      },
      "source": [
        "X_train, X_test, y_train, y_test = X[:60000], X[60000:], y[:60000], y[60000:]"
      ],
      "execution_count": null,
      "outputs": []
    },
    {
      "cell_type": "markdown",
      "metadata": {
        "id": "UjUwVmtaCgNr"
      },
      "source": [
        "shuffling training datasets to guarantee that all cross validation folds will be similar "
      ]
    },
    {
      "cell_type": "code",
      "metadata": {
        "id": "CC628h39Cw3M"
      },
      "source": [
        "import numpy as np\r\n",
        "shuffle_index = np.random.permutation(60000)\r\n",
        "X_train,y_train = X_train[shuffle_index],y_train[shuffle_index]"
      ],
      "execution_count": null,
      "outputs": []
    },
    {
      "cell_type": "markdown",
      "metadata": {
        "id": "IOdSR3XADOOL"
      },
      "source": [
        "lets train a binary classification model. here we are creating creating a data sets that has only number 5 so that the binary classifier will only classify the data as 5 or not 5"
      ]
    },
    {
      "cell_type": "code",
      "metadata": {
        "id": "On_lPfSNDNw3"
      },
      "source": [
        "y_train_7 = (y_train == '9') # True for all 5s, False for all other digits.\r\n",
        "y_test_7 = (y_test == '9')"
      ],
      "execution_count": null,
      "outputs": []
    },
    {
      "cell_type": "markdown",
      "metadata": {
        "id": "QaI8wFzCDwZ_"
      },
      "source": [
        "we will train Stochastic Gradient Descent(SGD) classifier as it is very efficient with large data sets"
      ]
    },
    {
      "cell_type": "code",
      "metadata": {
        "colab": {
          "base_uri": "https://localhost:8080/"
        },
        "id": "6T65NsZ_ECVB",
        "outputId": "a5ec019b-40b3-4af4-aae9-1499a2b85afe"
      },
      "source": [
        "from sklearn.linear_model import SGDClassifier\r\n",
        "sgd_cls = SGDClassifier()\r\n",
        "sgd_cls.fit(X_train,y_train_7)"
      ],
      "execution_count": null,
      "outputs": [
        {
          "output_type": "execute_result",
          "data": {
            "text/plain": [
              "SGDClassifier(alpha=0.0001, average=False, class_weight=None,\n",
              "              early_stopping=False, epsilon=0.1, eta0=0.0, fit_intercept=True,\n",
              "              l1_ratio=0.15, learning_rate='optimal', loss='hinge',\n",
              "              max_iter=1000, n_iter_no_change=5, n_jobs=None, penalty='l2',\n",
              "              power_t=0.5, random_state=None, shuffle=True, tol=0.001,\n",
              "              validation_fraction=0.1, verbose=0, warm_start=False)"
            ]
          },
          "metadata": {
            "tags": []
          },
          "execution_count": 10
        }
      ]
    },
    {
      "cell_type": "code",
      "metadata": {
        "colab": {
          "base_uri": "https://localhost:8080/",
          "height": 52
        },
        "id": "m7Oavzd9Fl_I",
        "outputId": "e42618f2-08ec-4602-ac00-244dd6238ac2"
      },
      "source": [
        "print(sgd_cls.predict([X_train[2]]))\r\n",
        "y_train[2]"
      ],
      "execution_count": null,
      "outputs": [
        {
          "output_type": "stream",
          "text": [
            "[False]\n"
          ],
          "name": "stdout"
        },
        {
          "output_type": "execute_result",
          "data": {
            "application/vnd.google.colaboratory.intrinsic+json": {
              "type": "string"
            },
            "text/plain": [
              "'6'"
            ]
          },
          "metadata": {
            "tags": []
          },
          "execution_count": 11
        }
      ]
    },
    {
      "cell_type": "markdown",
      "metadata": {
        "id": "_fuYk0jyKZGW"
      },
      "source": [
        "A good way to evaluate a model is cross validation. we can implement cross-validation using below code"
      ]
    },
    {
      "cell_type": "code",
      "metadata": {
        "colab": {
          "base_uri": "https://localhost:8080/"
        },
        "id": "th-dbQe0KYvE",
        "outputId": "6afce123-e1e0-4f5d-83ed-4544771023ea"
      },
      "source": [
        "from sklearn.model_selection import StratifiedKFold\r\n",
        "from sklearn.base import clone\r\n",
        "\r\n",
        "skfolds = StratifiedKFold(n_splits=3, random_state=42)\r\n",
        "\r\n",
        "for train_index, test_index in skfolds.split(X_train,y_train_7):\r\n",
        "  clone_clf = clone(sgd_cls)\r\n",
        "  X_train_folds = X_train[train_index]\r\n",
        "  X_test_folds = X_train[test_index]\r\n",
        "  y_train_folds = (y_train_7[train_index])\r\n",
        "  y_test_folds = (y_train_7[test_index])\r\n",
        "\r\n",
        "  clone_clf.fit(X_train_folds,y_train_folds)\r\n",
        "  y_pred = clone_clf.predict(X_test_folds)\r\n",
        "  n_correct = sum(y_pred==y_test_folds)\r\n",
        "  print(n_correct/len(y_pred))"
      ],
      "execution_count": null,
      "outputs": [
        {
          "output_type": "stream",
          "text": [
            "/usr/local/lib/python3.6/dist-packages/sklearn/model_selection/_split.py:296: FutureWarning: Setting a random_state has no effect since shuffle is False. This will raise an error in 0.24. You should leave random_state to its default (None), or set shuffle=True.\n",
            "  FutureWarning\n"
          ],
          "name": "stderr"
        },
        {
          "output_type": "stream",
          "text": [
            "0.93165\n",
            "0.9503\n",
            "0.8638\n"
          ],
          "name": "stdout"
        }
      ]
    },
    {
      "cell_type": "markdown",
      "metadata": {
        "id": "euyV2F88Nevg"
      },
      "source": [
        "lets use cross_val_score() function from sklearn to  check our score"
      ]
    },
    {
      "cell_type": "code",
      "metadata": {
        "colab": {
          "base_uri": "https://localhost:8080/"
        },
        "id": "Vghgh-91Nofw",
        "outputId": "eebece2c-952c-4cf6-c749-0f93d82aecdc"
      },
      "source": [
        "from sklearn.model_selection import cross_val_score\r\n",
        "cross_val_score(sgd_cls,X_train,y_train_7,cv=3,scoring=\"accuracy\")"
      ],
      "execution_count": null,
      "outputs": [
        {
          "output_type": "execute_result",
          "data": {
            "text/plain": [
              "array([0.93165, 0.94365, 0.95055])"
            ]
          },
          "metadata": {
            "tags": []
          },
          "execution_count": 13
        }
      ]
    },
    {
      "cell_type": "markdown",
      "metadata": {
        "id": "GkypN6ZVOmhc"
      },
      "source": [
        "This is good news as our accuracy is over 94%. Wait!!!\r\n",
        "that's not it. let us consider there are 10% of number 5 images in that data set andif our model predicts not 5 all  the time it ends up with 90% accuracy.\r\n",
        "So, this is the reason why accuracy is not a good measure for classifiers\r\n",
        "there for we use confusion matrix to evaluate a classifier. we can use cross_val_predict() function"
      ]
    },
    {
      "cell_type": "code",
      "metadata": {
        "id": "vcvDueb_PAuK"
      },
      "source": [
        "from sklearn.model_selection import cross_val_predict\r\n",
        "y_train_pred = cross_val_predict(sgd_cls,X_train,y_train_7,cv=3)"
      ],
      "execution_count": null,
      "outputs": []
    },
    {
      "cell_type": "markdown",
      "metadata": {
        "id": "6Rs0d4SxSoJv"
      },
      "source": [
        "we can use confusion_matrix() function from sklearn.metrics to calculate confusion matrix"
      ]
    },
    {
      "cell_type": "code",
      "metadata": {
        "colab": {
          "base_uri": "https://localhost:8080/"
        },
        "id": "U5VwDTbMSxF0",
        "outputId": "65fc6ada-b8ef-4c5b-f523-136f980cb840"
      },
      "source": [
        "from sklearn.metrics import confusion_matrix\r\n",
        "confusion_matrix(y_train_7,y_train_pred)"
      ],
      "execution_count": null,
      "outputs": [
        {
          "output_type": "execute_result",
          "data": {
            "text/plain": [
              "array([[52512,  1539],\n",
              "       [ 1696,  4253]])"
            ]
          },
          "metadata": {
            "tags": []
          },
          "execution_count": 15
        }
      ]
    },
    {
      "cell_type": "markdown",
      "metadata": {
        "id": "OpCDQGvaT842"
      },
      "source": [
        "confusion matrix gives information about true positives, true negatives, false positives and false negatives.\r\n",
        "We can further calculate precision and recall for the classifier using preision_score and recall_score from sklearn.metrics"
      ]
    },
    {
      "cell_type": "code",
      "metadata": {
        "colab": {
          "base_uri": "https://localhost:8080/"
        },
        "id": "8lm31pxXTdN0",
        "outputId": "cf6939cf-b8f0-4b9e-ef09-03eb4f22ed41"
      },
      "source": [
        "from sklearn.metrics import precision_score, recall_score\r\n",
        "print(\"precision of SGD classifier: \",precision_score(y_train_7,y_train_pred))\r\n",
        "print(\"Recall of SGD classifier: \", recall_score(y_train_7,y_train_pred))"
      ],
      "execution_count": null,
      "outputs": [
        {
          "output_type": "stream",
          "text": [
            "precision of SGD classifier:  0.7342886740331491\n",
            "Recall of SGD classifier:  0.7149100689191461\n"
          ],
          "name": "stdout"
        }
      ]
    },
    {
      "cell_type": "markdown",
      "metadata": {
        "id": "3RR4PzwyU6Ao"
      },
      "source": [
        "we can further combine precision and recall into a single metrics called F1 score. this is a harmonic mean of precision and recall. This will give high weights for low values which means F1 score will be high if and only if both precision and recall scores are high.\r\n",
        "we can use f1_score() function from sklearn.metrics"
      ]
    },
    {
      "cell_type": "code",
      "metadata": {
        "colab": {
          "base_uri": "https://localhost:8080/"
        },
        "id": "eY7RhfbeVP-_",
        "outputId": "0f02e5d2-35df-44b2-cfd9-32afc79747c7"
      },
      "source": [
        "from sklearn.metrics import f1_score\r\n",
        "print(f1_score(y_train_7,y_train_pred))"
      ],
      "execution_count": null,
      "outputs": [
        {
          "output_type": "stream",
          "text": [
            "0.7244698066604207\n"
          ],
          "name": "stdout"
        }
      ]
    },
    {
      "cell_type": "markdown",
      "metadata": {
        "id": "xIvU5z4uWa1U"
      },
      "source": [
        "SGD works with decision boundary, we can get scores for each instance instead of predicted classes. so that we can later change the decision boundary and increase precision or recall for our classifier. but  there is a trade off between precision and recall. if recall increases precision decreases and vice versa. we can get scores for each instance by using cross_val_predict() function with method=\"decision_function\" attribute"
      ]
    },
    {
      "cell_type": "code",
      "metadata": {
        "id": "RLTEE6h8Xgu4"
      },
      "source": [
        "y_scores = cross_val_predict(sgd_cls,X_train,y_train_7,method=\"decision_function\")"
      ],
      "execution_count": null,
      "outputs": []
    },
    {
      "cell_type": "markdown",
      "metadata": {
        "id": "KANe6a2cYRLt"
      },
      "source": [
        "with these y_scores we can calculate precision and recalls for all possible decision boundaries using precision_recall_curve() function"
      ]
    },
    {
      "cell_type": "code",
      "metadata": {
        "id": "y6StkP-QYMMu"
      },
      "source": [
        "from sklearn.metrics import precision_recall_curve\r\n",
        "precisions, recall, thresholds = precision_recall_curve(y_train_7,y_scores)"
      ],
      "execution_count": null,
      "outputs": []
    },
    {
      "cell_type": "markdown",
      "metadata": {
        "id": "ptIFq4KvY8GG"
      },
      "source": [
        "Using matplotlib we can plot precision and recall graphs for all decision boundaries"
      ]
    },
    {
      "cell_type": "code",
      "metadata": {
        "id": "VxlZpkMsY7Nf"
      },
      "source": [
        "def precision_recall_vs_thresholds(precisions, recall, thresholds):\r\n",
        "  plt.plot(thresholds,precisions[:-1],\"b--\",label=\"Prcision\")\r\n",
        "  plt.plot(thresholds,recall[:-1],\"g-\",label=\"Recall\")\r\n",
        "  plt.xlabel(\"Threshold\")\r\n",
        "  plt.legend(loc=\"upper left\")\r\n",
        "  plt.title('Precision-Recall tradoff')\r\n",
        "  plt.ylim([0,1])"
      ],
      "execution_count": null,
      "outputs": []
    },
    {
      "cell_type": "code",
      "metadata": {
        "colab": {
          "base_uri": "https://localhost:8080/",
          "height": 295
        },
        "id": "54Pw9vpZaAwB",
        "outputId": "42aca3df-8abb-42db-b472-559228d9ca71"
      },
      "source": [
        "precision_recall_vs_thresholds(precisions, recall, thresholds)\r\n",
        "plt.show()"
      ],
      "execution_count": null,
      "outputs": [
        {
          "output_type": "display_data",
          "data": {
            "image/png": "[encoded data removed]",
            "text/plain": [
              "<Figure size 432x288 with 1 Axes>"
            ]
          },
          "metadata": {
            "tags": [],
            "needs_background": "light"
          }
        }
      ]
    },
    {
      "cell_type": "code",
      "metadata": {
        "id": "6AT1RXs1xvZR"
      },
      "source": [
        "def precision_vs_recall(precisions, recall):\r\n",
        "  plt.plot( recall[:-1],precisions[:-1],'b-')\r\n",
        "  plt.xlabel(\"Recall\")\r\n",
        "  plt.ylabel(\"Precision\")\r\n",
        "  plt.title('Precision vs Recall')\r\n",
        "  plt.show()"
      ],
      "execution_count": null,
      "outputs": []
    },
    {
      "cell_type": "code",
      "metadata": {
        "colab": {
          "base_uri": "https://localhost:8080/",
          "height": 295
        },
        "id": "lk92hLFHyNMe",
        "outputId": "924dfac4-d97a-41cc-8fa1-4d209bfd480c"
      },
      "source": [
        "precision_vs_recall(precisions, recall)"
      ],
      "execution_count": null,
      "outputs": [
        {
          "output_type": "display_data",
          "data": {
            "image/png": "[encoded data removed]",
            "text/plain": [
              "<Figure size 432x288 with 1 Axes>"
            ]
          },
          "metadata": {
            "tags": [],
            "needs_background": "light"
          }
        }
      ]
    },
    {
      "cell_type": "markdown",
      "metadata": {
        "id": "fGU1umYBzhGZ"
      },
      "source": [
        "lets select a threshold such that our precision becomes 905. for that check precision-recall vs threshold map and selct threshold where precision is 90%. that is around 10000. use below code to set threshold for 10000"
      ]
    },
    {
      "cell_type": "code",
      "metadata": {
        "colab": {
          "base_uri": "https://localhost:8080/"
        },
        "id": "UWdYv80xzf59",
        "outputId": "57f0be77-a538-437e-8812-44976edf9815"
      },
      "source": [
        "y_train_pred_90 = (y_scores>10000)\r\n",
        "print(precision_score(y_train_7,y_train_pred_90))\r\n",
        "print(\"Recall when precison is above 90% :\", recall_score(y_train_7,y_train_pred_90))"
      ],
      "execution_count": null,
      "outputs": [
        {
          "output_type": "stream",
          "text": [
            "0.8897058823529411\n",
            "Recall when precison is above 90% : 0.020339552866027902\n"
          ],
          "name": "stdout"
        }
      ]
    },
    {
      "cell_type": "markdown",
      "metadata": {
        "id": "GLl3DF271Am8"
      },
      "source": [
        "ROC curve: \r\n",
        "          Receiver operating characteristic(ROC) is used to plot recall vs 1-true negative rate. True negative (false positive rate) is also called as specificity. so, we can say that roc curve is senstivity vs  specificity. we can use roc_curve() function from sklearn.metrics"
      ]
    },
    {
      "cell_type": "code",
      "metadata": {
        "id": "HKn6f5Ej1lki"
      },
      "source": [
        "from sklearn.metrics import roc_curve\r\n",
        "fpr, tpr, thresholds = roc_curve(y_train_7,y_scores)"
      ],
      "execution_count": null,
      "outputs": []
    },
    {
      "cell_type": "code",
      "metadata": {
        "id": "651LND-T18Be"
      },
      "source": [
        "def plot_roc_curve(fpr, tpr,label=None):\r\n",
        "  plt.plot(fpr,tpr,linewidth=2,label=label)\r\n",
        "  plt.plot([0,1],[0,1],'k--')\r\n",
        "  plt.axis([0,1,0,1])\r\n",
        "  plt.xlabel('False Positive Rate')\r\n",
        "  plt.ylabel('True Positive Rate')"
      ],
      "execution_count": null,
      "outputs": []
    },
    {
      "cell_type": "code",
      "metadata": {
        "colab": {
          "base_uri": "https://localhost:8080/",
          "height": 283
        },
        "id": "LIFgo-HT2eor",
        "outputId": "e0398af9-d6fc-41d4-c74e-3d0367f3f2a7"
      },
      "source": [
        "plot_roc_curve(fpr, tpr  )"
      ],
      "execution_count": null,
      "outputs": [
        {
          "output_type": "display_data",
          "data": {
            "image/png": "[encoded data removed]",
            "text/plain": [
              "<Figure size 432x288 with 1 Axes>"
            ]
          },
          "metadata": {
            "tags": [],
            "needs_background": "light"
          }
        }
      ]
    },
    {
      "cell_type": "code",
      "metadata": {
        "colab": {
          "base_uri": "https://localhost:8080/"
        },
        "id": "NDV1tPjdwNzW",
        "outputId": "65bda68b-221f-4213-f927-70d45fbf20c7"
      },
      "source": [
        "from sklearn.metrics import roc_auc_score\r\n",
        "print(roc_auc_score(y_train_7,y_scores))"
      ],
      "execution_count": null,
      "outputs": [
        {
          "output_type": "stream",
          "text": [
            "0.943829719302321\n"
          ],
          "name": "stdout"
        }
      ]
    },
    {
      "cell_type": "markdown",
      "metadata": {
        "id": "xhmrnQjI1HCh"
      },
      "source": [
        "### Multi Class Classification\r\n",
        "In this we can use binary classifier for multi class clasification\r\n",
        "Here we use two methods one vs all & one vs one\r\n",
        "Sklearn by default uses one vs all for all binary classifiers except for svm classifiers"
      ]
    },
    {
      "cell_type": "code",
      "metadata": {
        "colab": {
          "base_uri": "https://localhost:8080/"
        },
        "id": "6Tx6TxIO1GEf",
        "outputId": "e3570541-c9c7-490c-a621-2b59e94cb39c"
      },
      "source": [
        "sgd_cls.fit(X_train,y_train)\r\n",
        "sgd_cls.predict([some_digits])"
      ],
      "execution_count": null,
      "outputs": [
        {
          "output_type": "execute_result",
          "data": {
            "text/plain": [
              "array(['4'], dtype='<U1')"
            ]
          },
          "metadata": {
            "tags": []
          },
          "execution_count": 30
        }
      ]
    },
    {
      "cell_type": "markdown",
      "metadata": {
        "id": "Bzwn8DYB3edW"
      },
      "source": [
        "Whena classifier is train it will store the list of target classes in classes_ array."
      ]
    },
    {
      "cell_type": "code",
      "metadata": {
        "colab": {
          "base_uri": "https://localhost:8080/",
          "height": 35
        },
        "id": "IKGJn_vg21Y8",
        "outputId": "3b6eca0b-e7d8-4b71-92e4-5b98ccb67886"
      },
      "source": [
        "some_digits_score= sgd_cls.decision_function([some_digits])\r\n",
        "sgd_cls.classes_[np.argmax(some_digits_score)]"
      ],
      "execution_count": null,
      "outputs": [
        {
          "output_type": "execute_result",
          "data": {
            "application/vnd.google.colaboratory.intrinsic+json": {
              "type": "string"
            },
            "text/plain": [
              "'4'"
            ]
          },
          "metadata": {
            "tags": []
          },
          "execution_count": 34
        }
      ]
    },
    {
      "cell_type": "markdown",
      "metadata": {
        "id": "HarIUW_V3zbZ"
      },
      "source": [
        "Training a randomforest classifier is also easy"
      ]
    },
    {
      "cell_type": "code",
      "metadata": {
        "colab": {
          "base_uri": "https://localhost:8080/"
        },
        "id": "YEfls7mY34rz",
        "outputId": "a63eef12-f86e-4a40-fac4-de4abc2e86c6"
      },
      "source": [
        "from sklearn.ensemble import RandomForestClassifier\r\n",
        "forest_clf = RandomForestClassifier(random_state = 42)\r\n",
        "forest_clf.fit(X_train,y_train)"
      ],
      "execution_count": null,
      "outputs": [
        {
          "output_type": "execute_result",
          "data": {
            "text/plain": [
              "RandomForestClassifier(bootstrap=True, ccp_alpha=0.0, class_weight=None,\n",
              "                       criterion='gini', max_depth=None, max_features='auto',\n",
              "                       max_leaf_nodes=None, max_samples=None,\n",
              "                       min_impurity_decrease=0.0, min_impurity_split=None,\n",
              "                       min_samples_leaf=1, min_samples_split=2,\n",
              "                       min_weight_fraction_leaf=0.0, n_estimators=100,\n",
              "                       n_jobs=None, oob_score=False, random_state=42, verbose=0,\n",
              "                       warm_start=False)"
            ]
          },
          "metadata": {
            "tags": []
          },
          "execution_count": 35
        }
      ]
    },
    {
      "cell_type": "markdown",
      "metadata": {
        "id": "dIj5XVag5XZv"
      },
      "source": [
        "Here sklearn did not force to run OvsALL or OvsO because Randomforest classifier is capable of classifying instances into multiple classes"
      ]
    },
    {
      "cell_type": "code",
      "metadata": {
        "colab": {
          "base_uri": "https://localhost:8080/"
        },
        "id": "iP5tzmtB5C9a",
        "outputId": "e8ce3cbc-f554-4d6b-bf88-a6c40627352f"
      },
      "source": [
        "print(forest_clf.predict([some_digits]))\r\n",
        "forest_clf.predict_proba([some_digits])"
      ],
      "execution_count": null,
      "outputs": [
        {
          "output_type": "stream",
          "text": [
            "['4']\n"
          ],
          "name": "stdout"
        },
        {
          "output_type": "execute_result",
          "data": {
            "text/plain": [
              "array([[0.  , 0.  , 0.01, 0.  , 0.99, 0.  , 0.  , 0.  , 0.  , 0.  ]])"
            ]
          },
          "metadata": {
            "tags": []
          },
          "execution_count": 38
        }
      ]
    },
    {
      "cell_type": "markdown",
      "metadata": {
        "id": "SBel0bl05xDB"
      },
      "source": [
        "Cross validation for OvsO or OvsALL classifiers\r\n",
        "we can do that by using cross_val_score\r\n",
        "we got scores over 86 in 3 folds which is not bad as if we use random classifier we would get 10% accuracy."
      ]
    },
    {
      "cell_type": "code",
      "metadata": {
        "colab": {
          "base_uri": "https://localhost:8080/"
        },
        "id": "-tGc1IwO56x5",
        "outputId": "a2d7fa5e-bf0f-4fe8-f08a-119416046395"
      },
      "source": [
        "cross_val_score(sgd_cls,X_train,y_train,cv=3,scoring='accuracy')"
      ],
      "execution_count": null,
      "outputs": [
        {
          "output_type": "execute_result",
          "data": {
            "text/plain": [
              "array([0.87095, 0.86725, 0.88745])"
            ]
          },
          "metadata": {
            "tags": []
          },
          "execution_count": 40
        }
      ]
    },
    {
      "cell_type": "markdown",
      "metadata": {
        "id": "6OGABa9170Xb"
      },
      "source": [
        "the score can be improved by scaling the input. With the help of StandardScalar from sklearn.preprocessing we can scale our input data"
      ]
    },
    {
      "cell_type": "code",
      "metadata": {
        "colab": {
          "base_uri": "https://localhost:8080/"
        },
        "id": "nUHAcVD78Di3",
        "outputId": "b9c683ef-f7c0-4152-d1e8-ec83a0881733"
      },
      "source": [
        "from sklearn.preprocessing import StandardScaler\r\n",
        "scalar = StandardScaler()\r\n",
        "X_train__scaled = scalar.fit_transform(X_train.astype(np.float64))\r\n",
        "cross_val_score(sgd_cls,X_train__scaled,y_train,cv=3,scoring='accuracy')"
      ],
      "execution_count": null,
      "outputs": [
        {
          "output_type": "stream",
          "text": [
            "/usr/local/lib/python3.6/dist-packages/sklearn/linear_model/_stochastic_gradient.py:557: ConvergenceWarning: Maximum number of iteration reached before convergence. Consider increasing max_iter to improve the fit.\n",
            "  ConvergenceWarning)\n"
          ],
          "name": "stderr"
        },
        {
          "output_type": "execute_result",
          "data": {
            "text/plain": [
              "array([0.89275, 0.90505, 0.90125])"
            ]
          },
          "metadata": {
            "tags": []
          },
          "execution_count": 43
        }
      ]
    },
    {
      "cell_type": "code",
      "metadata": {
        "colab": {
          "base_uri": "https://localhost:8080/"
        },
        "id": "RX7P4k77BTzc",
        "outputId": "3e4fbbea-6c46-4a3a-e342-49ee525d1721"
      },
      "source": [
        "y_train_pred = cross_val_predict(sgd_cls,X_train__scaled,y_train,cv=3)\r\n",
        "conf_mtx = confusion_matrix(y_train,y_train_pred)\r\n",
        "conf_mtx"
      ],
      "execution_count": null,
      "outputs": [
        {
          "output_type": "stream",
          "text": [
            "/usr/local/lib/python3.6/dist-packages/sklearn/linear_model/_stochastic_gradient.py:557: ConvergenceWarning: Maximum number of iteration reached before convergence. Consider increasing max_iter to improve the fit.\n",
            "  ConvergenceWarning)\n"
          ],
          "name": "stderr"
        },
        {
          "output_type": "execute_result",
          "data": {
            "text/plain": [
              "array([[5597,    0,   16,    5,    9,   44,   34,    6,  211,    1],\n",
              "       [   1, 6415,   46,   23,    5,   41,    4,    8,  188,   11],\n",
              "       [  26,   28, 5261,   89,   74,   26,   62,   40,  345,    7],\n",
              "       [  25,   18,  122, 5250,    0,  206,   24,   41,  376,   69],\n",
              "       [  11,   18,   38,   12, 5256,   11,   35,   21,  294,  146],\n",
              "       [  29,   19,   32,  148,   59, 4480,   70,   17,  506,   61],\n",
              "       [  28,   18,   51,    1,   42,   87, 5549,    6,  136,    0],\n",
              "       [  17,   12,   54,   24,   53,   12,    6, 5699,  172,  216],\n",
              "       [  18,   65,   42,   96,    3,  114,   31,    8, 5431,   43],\n",
              "       [  24,   22,   30,   61,  126,   37,    1,  170,  325, 5153]])"
            ]
          },
          "metadata": {
            "tags": []
          },
          "execution_count": 44
        }
      ]
    }
  ]
}